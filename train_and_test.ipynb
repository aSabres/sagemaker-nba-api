{
 "cells": [
  {
   "cell_type": "markdown",
   "metadata": {},
   "source": [
    "## Training\n",
    "Develop the code for the trainning"
   ]
  },
  {
   "cell_type": "code",
   "execution_count": 7,
   "metadata": {},
   "outputs": [
    {
     "name": "stdout",
     "output_type": "stream",
     "text": [
      "s3://asaf-sagemaker-datasets/final_dataset/output_1642495104/part-00000-db74d4ca-2111-4b23-a734-0f2b4ecd417f-c000.csv\n",
      "/root/sagemaker-nba-api\n",
      "/root/sagemaker-nba-api/local_training/\n"
     ]
    }
   ],
   "source": [
    "import os\n",
    "from time import gmtime, strftime\n",
    "import sagemaker\n",
    "from sagemaker import get_execution_role\n",
    "from sagemaker.tensorflow import TensorFlow\n",
    "from sagemaker.tuner import IntegerParameter, CategoricalParameter, ContinuousParameter, HyperparameterTuner\n",
    "\n",
    "def sagemaker_estimator(sagemaker_role,code_entry,code_dir, instance_type, instance_count, hyperparameters, metric_definitions):\n",
    "    sm_estimator = TensorFlow(entry_point=code_entry,\n",
    "                              source_dir=code_dir,\n",
    "                              role=sagemaker_role,\n",
    "                              instance_type=instance_type,\n",
    "                              instance_count=instance_count,\n",
    "                              model_dir='/opt/ml/model',\n",
    "                              hyperparameters=hyperparameters,\n",
    "                              metric_definitions=metric_definitions,\n",
    "                              framework_version='2.2',\n",
    "                              py_version='py37',\n",
    "                              script_mode=True)\n",
    "    return sm_estimator\n",
    "\n",
    "\n",
    "def sagemaker_training(sm_estimator,train_s3,training_job_name):\n",
    "    sm_estimator.fit(train_s3, job_name=training_job_name, wait=False)\n",
    "    \n",
    "if __name__ == '__main__':\n",
    "    \n",
    "    session = sagemaker.Session()\n",
    "    sagemaker_role = get_execution_role()\n",
    "    \n",
    "    train_s3 = \"s3://asaf-sagemaker-datasets/final_dataset/output_1642495104/part-00000-db74d4ca-2111-4b23-a734-0f2b4ecd417f-c000.csv\"\n",
    "    print(train_s3)\n",
    "    print(os.getcwd())\n",
    "    \n",
    "    code_entry = 'local_train.py'\n",
    "    code_dir = os.getcwd() + '/local_training/'\n",
    "    print(code_dir)\n",
    "    instance_type = 'ml.c5.xlarge'\n",
    "    instance_count = 1\n",
    "    hyperparameters = {'epochs': 250,\n",
    "                       'batch_size': 5,\n",
    "                       'es_patience': 40}\n",
    "\n",
    "    metric_definitions = [\n",
    "        {'Name': 'train:error', 'Regex': 'loss: ([0-9\\\\.]+)'},\n",
    "        {'Name': 'validation:error', 'Regex': 'val_loss: ([0-9\\\\.]+)'},\n",
    "        {'Name': 'validation:accuracy', 'Regex': 'val_accuracy: ([0-9\\\\.]+)'}\n",
    "    ]\n",
    "    \n",
    "    sm_estimator = sagemaker_estimator(sagemaker_role, code_entry, code_dir, instance_type, instance_count, hyperparameters, metric_definitions)\n",
    "        \n",
    "    # sagemaker training job\n",
    "    training_job_name = \"tf-nba-training-{}\".format(strftime(\"%d-%H-%M-%S\", gmtime()))\n",
    "    sagemaker_training(sm_estimator, train_s3, training_job_name)    "
   ]
  },
  {
   "cell_type": "markdown",
   "metadata": {},
   "source": [
    "## Create SageMaker Training job"
   ]
  },
  {
   "cell_type": "code",
   "execution_count": null,
   "metadata": {},
   "outputs": [],
   "source": []
  },
  {
   "cell_type": "markdown",
   "metadata": {},
   "source": [
    "## Deploy the model from SageMaker"
   ]
  },
  {
   "cell_type": "code",
   "execution_count": null,
   "metadata": {},
   "outputs": [],
   "source": []
  },
  {
   "cell_type": "markdown",
   "metadata": {},
   "source": [
    "## Test"
   ]
  },
  {
   "cell_type": "code",
   "execution_count": null,
   "metadata": {},
   "outputs": [],
   "source": []
  }
 ],
 "metadata": {
  "instance_type": "ml.t3.medium",
  "kernelspec": {
   "display_name": "Python 3 (Data Science)",
   "language": "python",
   "name": "python3__SAGEMAKER_INTERNAL__arn:aws:sagemaker:us-east-1:081325390199:image/datascience-1.0"
  },
  "language_info": {
   "codemirror_mode": {
    "name": "ipython",
    "version": 3
   },
   "file_extension": ".py",
   "mimetype": "text/x-python",
   "name": "python",
   "nbconvert_exporter": "python",
   "pygments_lexer": "ipython3",
   "version": "3.7.10"
  }
 },
 "nbformat": 4,
 "nbformat_minor": 4
}
