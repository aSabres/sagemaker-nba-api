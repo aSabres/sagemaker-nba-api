{
 "cells": [
  {
   "cell_type": "markdown",
   "metadata": {},
   "source": [
    "## Create SageMaker Training job\n",
    "Develop the code for the trainning"
   ]
  },
  {
   "cell_type": "code",
   "execution_count": 13,
   "metadata": {},
   "outputs": [],
   "source": [
    "import os\n",
    "from time import gmtime, strftime\n",
    "import sagemaker\n",
    "from sagemaker import get_execution_role\n",
    "from sagemaker.tensorflow import TensorFlow\n",
    "from sagemaker.tuner import IntegerParameter, CategoricalParameter, ContinuousParameter, HyperparameterTuner\n",
    "\n",
    "def sagemaker_estimator(sagemaker_role,code_entry,code_dir, instance_type, instance_count, hyperparameters, metric_definitions):\n",
    "    sm_estimator = TensorFlow(entry_point=code_entry,\n",
    "                              source_dir=code_dir,\n",
    "                              role=sagemaker_role,\n",
    "                              instance_type=instance_type,\n",
    "                              instance_count=instance_count,\n",
    "                              model_dir='/opt/ml/model',\n",
    "                              hyperparameters=hyperparameters,\n",
    "                              metric_definitions=metric_definitions,\n",
    "                              framework_version='2.2',\n",
    "                              py_version='py37',\n",
    "                              use_spot_instances=True,\n",
    "                              max_wait=7200,\n",
    "                              max_run=3600,\n",
    "                              max_retry_attempts=5,\n",
    "                              script_mode=True)\n",
    "    return sm_estimator\n",
    "\n",
    "\n",
    "def sagemaker_training(sm_estimator,train_s3,training_job_name):\n",
    "    sm_estimator.fit(train_s3, job_name=training_job_name, wait=False)\n",
    "\n",
    "def sagemaker_hyperparam_tuning(sm_estimator, train_s3, hyperparameter_ranges, metric_definitions, tuning_job_name, max_jobs, max_parallel_jobs):\n",
    "    objective_metric_name = 'validation:error'\n",
    "    objective_type = 'Minimize'\n",
    "    tuner = HyperparameterTuner(estimator=sm_estimator,\n",
    "                                objective_metric_name=objective_metric_name,\n",
    "                                hyperparameter_ranges=hyperparameter_ranges,\n",
    "                                metric_definitions=metric_definitions,\n",
    "                                max_jobs=max_jobs,\n",
    "                                max_parallel_jobs=max_parallel_jobs,\n",
    "                                objective_type=objective_type)\n",
    "\n",
    "    tuner.fit(train_s3, job_name=tuning_job_name, wait=False)    \n",
    "    \n",
    "if __name__ == '__main__':\n",
    "    \n",
    "    session = sagemaker.Session()\n",
    "    sagemaker_role = get_execution_role()\n",
    "    \n",
    "#     train_s3 = \"s3://asaf-sagemaker-datasets/final_dataset/output_1642495104/part-00000-db74d4ca-2111-4b23-a734-0f2b4ecd417f-c000.csv\"\n",
    "    train_s3 = \"s3://asaf-sagemaker-datasets/final_dataset/output_1642495104/part-00000-3f09f695-c1fb-4d21-b38d-6840b7cdc5a1-c000.csv\"\n",
    "               \n",
    "#     print(train_s3)\n",
    "#     print(os.getcwd())\n",
    "    \n",
    "    code_entry = 'local_train.py'\n",
    "    code_dir = os.getcwd() + '/local_training/'\n",
    "#     print(code_dir)\n",
    "#     instance_type = 'ml.c5.xlarge'\n",
    "#     instance_count = 1\n",
    "    hyperparameters = {'epochs': 250,\n",
    "                       'batch_size': 5,\n",
    "                       'es_patience': 40}\n",
    "\n",
    "    metric_definitions = [\n",
    "        {'Name': 'train:error', 'Regex': 'loss: ([0-9\\\\.]+)'},\n",
    "        {'Name': 'validation:error', 'Regex': 'val_loss: ([0-9\\\\.]+)'},\n",
    "        {'Name': 'validation:accuracy', 'Regex': 'val_accuracy: ([0-9\\\\.]+)'}\n",
    "    ]\n",
    "    \n",
    "    # get the tensorflow estumator\n",
    "    sm_estimator = sagemaker_estimator(sagemaker_role, code_entry, code_dir, instance_type, instance_count, hyperparameters, metric_definitions)\n",
    "    \n",
    "\n",
    "    \n",
    "    # sagemaker training job\n",
    "    training_job_name = \"tf-nba-training-{}\".format(strftime(\"%d-%H-%M-%S\", gmtime()))\n",
    "    sagemaker_training(sm_estimator, train_s3, training_job_name)    \n",
    "    \n",
    "    # sagemaker tuning job\n",
    "#     hyperparameter_ranges = {\n",
    "#         'epochs': IntegerParameter(50, 200),\n",
    "#         'batch_size': IntegerParameter(1, 10),\n",
    "#         'es_patience': IntegerParameter(20, 60)\n",
    "#     }\n",
    "\n",
    "#     tuning_job_name = \"tf-nba-training-{}\".format(strftime(\"%d-%H-%M-%S\", gmtime()))\n",
    "#     max_jobs = 4\n",
    "#     max_parallel_jobs = 2\n",
    "#     sagemaker_hyperparam_tuning(sm_estimator, train_s3, hyperparameter_ranges, metric_definitions, tuning_job_name, max_jobs, max_parallel_jobs)\n"
   ]
  },
  {
   "cell_type": "markdown",
   "metadata": {},
   "source": [
    "## Deploy the model from SageMaker"
   ]
  },
  {
   "cell_type": "code",
   "execution_count": 24,
   "metadata": {},
   "outputs": [
    {
     "name": "stdout",
     "output_type": "stream",
     "text": [
      "{'TrainingJobName': 'tf-nba-training-09-14-25-58', 'TrainingJobArn': 'arn:aws:sagemaker:us-east-1:535518648590:training-job/tf-nba-training-09-14-25-58', 'TrainingJobStatus': 'InProgress', 'SecondaryStatus': 'Training', 'HyperParameters': {'batch_size': '5', 'epochs': '250', 'es_patience': '40', 'model_dir': '\"/opt/ml/model\"', 'sagemaker_container_log_level': '20', 'sagemaker_job_name': '\"tf-nba-training-09-14-25-58\"', 'sagemaker_program': '\"local_train.py\"', 'sagemaker_region': '\"us-east-1\"', 'sagemaker_submit_directory': '\"s3://sagemaker-us-east-1-535518648590/tf-nba-training-09-14-25-58/source/sourcedir.tar.gz\"'}, 'AlgorithmSpecification': {'TrainingImage': '763104351884.dkr.ecr.us-east-1.amazonaws.com/tensorflow-training:2.2-cpu-py37', 'TrainingInputMode': 'File', 'MetricDefinitions': [{'Name': 'train:error', 'Regex': 'loss: ([0-9\\\\.]+)'}, {'Name': 'validation:error', 'Regex': 'val_loss: ([0-9\\\\.]+)'}, {'Name': 'validation:accuracy', 'Regex': 'val_accuracy: ([0-9\\\\.]+)'}], 'EnableSageMakerMetricsTimeSeries': True}, 'RoleArn': 'arn:aws:iam::535518648590:role/service-role/AmazonSageMaker-ExecutionRole-20191016T002401', 'InputDataConfig': [{'ChannelName': 'training', 'DataSource': {'S3DataSource': {'S3DataType': 'S3Prefix', 'S3Uri': 's3://asaf-sagemaker-datasets/final_dataset/output_1642495104/part-00000-db74d4ca-2111-4b23-a734-0f2b4ecd417f-c000.csv', 'S3DataDistributionType': 'FullyReplicated'}}, 'CompressionType': 'None', 'RecordWrapperType': 'None'}], 'OutputDataConfig': {'KmsKeyId': '', 'S3OutputPath': 's3://sagemaker-us-east-1-535518648590/'}, 'ResourceConfig': {'InstanceType': 'ml.c5.xlarge', 'InstanceCount': 1, 'VolumeSizeInGB': 30}, 'StoppingCondition': {'MaxRuntimeInSeconds': 3600, 'MaxWaitTimeInSeconds': 7200}, 'CreationTime': datetime.datetime(2022, 2, 9, 14, 26, 6, 166000, tzinfo=tzlocal()), 'TrainingStartTime': datetime.datetime(2022, 2, 9, 14, 28, 37, 178000, tzinfo=tzlocal()), 'LastModifiedTime': datetime.datetime(2022, 2, 9, 14, 35, 20, 600000, tzinfo=tzlocal()), 'SecondaryStatusTransitions': [{'Status': 'Starting', 'StartTime': datetime.datetime(2022, 2, 9, 14, 26, 6, 166000, tzinfo=tzlocal()), 'EndTime': datetime.datetime(2022, 2, 9, 14, 28, 37, 178000, tzinfo=tzlocal()), 'StatusMessage': 'Preparing the instances for training'}, {'Status': 'Downloading', 'StartTime': datetime.datetime(2022, 2, 9, 14, 28, 37, 178000, tzinfo=tzlocal()), 'EndTime': datetime.datetime(2022, 2, 9, 14, 28, 58, 654000, tzinfo=tzlocal()), 'StatusMessage': 'Downloading input data'}, {'Status': 'Training', 'StartTime': datetime.datetime(2022, 2, 9, 14, 28, 58, 654000, tzinfo=tzlocal()), 'StatusMessage': 'Training image download completed. Training in progress.'}], 'EnableNetworkIsolation': False, 'EnableInterContainerTrafficEncryption': False, 'EnableManagedSpotTraining': True, 'TrainingTimeInSeconds': 414, 'DebugHookConfig': {'S3OutputPath': 's3://sagemaker-us-east-1-535518648590/', 'CollectionConfigurations': []}, 'ProfilerConfig': {'S3OutputPath': 's3://sagemaker-us-east-1-535518648590/', 'ProfilingIntervalInMilliseconds': 500}, 'ProfilerRuleConfigurations': [{'RuleConfigurationName': 'ProfilerReport-1644416758', 'RuleEvaluatorImage': '503895931360.dkr.ecr.us-east-1.amazonaws.com/sagemaker-debugger-rules:latest', 'VolumeSizeInGB': 0, 'RuleParameters': {'rule_to_invoke': 'ProfilerReport'}}], 'ProfilerRuleEvaluationStatuses': [{'RuleConfigurationName': 'ProfilerReport-1644416758', 'RuleEvaluationJobArn': 'arn:aws:sagemaker:us-east-1:535518648590:processing-job/tf-nba-training-09-14-25-5-profilerreport-1644416758-ccce3d28', 'RuleEvaluationStatus': 'InProgress', 'LastModifiedTime': datetime.datetime(2022, 2, 9, 14, 35, 20, 594000, tzinfo=tzlocal())}], 'ProfilingStatus': 'Enabled', 'RetryStrategy': {'MaximumRetryAttempts': 5}, 'ResponseMetadata': {'RequestId': 'e6ddd395-447b-431e-b186-cced7c629417', 'HTTPStatusCode': 200, 'HTTPHeaders': {'x-amzn-requestid': 'e6ddd395-447b-431e-b186-cced7c629417', 'content-type': 'application/x-amz-json-1.1', 'content-length': '3426', 'date': 'Wed, 09 Feb 2022 14:35:31 GMT'}, 'RetryAttempts': 0}}\n"
     ]
    }
   ],
   "source": [
    "#print(dir(sm_estimator))\n",
    "\n",
    "#print(dir(sm_estimator.latest_training_job))\n",
    "print(sm_estimator.latest_training_job.describe())"
   ]
  },
  {
   "cell_type": "code",
   "execution_count": 25,
   "metadata": {},
   "outputs": [
    {
     "name": "stderr",
     "output_type": "stream",
     "text": [
      "update_endpoint is a no-op in sagemaker>=2.\n",
      "See: https://sagemaker.readthedocs.io/en/stable/v2.html for details.\n"
     ]
    },
    {
     "name": "stdout",
     "output_type": "stream",
     "text": [
      "--------!"
     ]
    }
   ],
   "source": [
    "predictor = sm_estimator.deploy(initial_instance_count=1, instance_type=\"ml.t2.medium\")"
   ]
  },
  {
   "cell_type": "markdown",
   "metadata": {},
   "source": [
    "## Test"
   ]
  },
  {
   "cell_type": "code",
   "execution_count": 37,
   "metadata": {},
   "outputs": [
    {
     "name": "stdout",
     "output_type": "stream",
     "text": [
      "{'predictions': [[nan]]}\n"
     ]
    }
   ],
   "source": [
    "input = {\n",
    "  'instances': [\n",
    "      [105.9,105.2,0.7,0.169,2.24,19.2,0.073,0.21,0.142,8.6,8.6,0.558,0.587,0.197,74.98,0.15,2.1,4,0.532,0,0,0,0.7,1,0.729,1.4,4.1,5.6,1.4,1.1,0.1,0.5,0.3,2,1.4,5]\n",
    "  ]\n",
    "}\n",
    "\n",
    "result = predictor.predict(input)\n",
    "\n",
    "\n",
    "\n",
    "print(result)"
   ]
  },
  {
   "cell_type": "code",
   "execution_count": null,
   "metadata": {},
   "outputs": [],
   "source": []
  }
 ],
 "metadata": {
  "instance_type": "ml.t3.medium",
  "kernelspec": {
   "display_name": "Python 3 (Data Science)",
   "language": "python",
   "name": "python3__SAGEMAKER_INTERNAL__arn:aws:sagemaker:us-east-1:081325390199:image/datascience-1.0"
  },
  "language_info": {
   "codemirror_mode": {
    "name": "ipython",
    "version": 3
   },
   "file_extension": ".py",
   "mimetype": "text/x-python",
   "name": "python",
   "nbconvert_exporter": "python",
   "pygments_lexer": "ipython3",
   "version": "3.7.10"
  }
 },
 "nbformat": 4,
 "nbformat_minor": 4
}
